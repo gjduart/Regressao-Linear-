{
 "cells": [
  {
   "cell_type": "markdown",
   "metadata": {},
   "source": [
    "Aluno: Gabriel Jonas da Silva Duarte"
   ]
  },
  {
   "cell_type": "markdown",
   "metadata": {},
   "source": [
    "<h2>Questao 1</h2>"
   ]
  },
  {
   "cell_type": "markdown",
   "metadata": {},
   "source": [
    "1 . Derive a solucao de minimos quadrados para um modelo de regressao linear simples sem intercept: $$ h(x) = \\theta x$$"
   ]
  },
  {
   "cell_type": "markdown",
   "metadata": {},
   "source": [
    "$$h(x) = \\theta x \\\\\n",
    "    \\theta = argmin(\\theta)\\\\\n",
    "   $$\n",
    "   "
   ]
  },
  {
   "cell_type": "markdown",
   "metadata": {},
   "source": [
    "$$\\\\\n",
    "    min\\sum_{n=1}^{N} (Yn - \\theta Xn)^2\\\\\n",
    "     \\\\\n",
    "$$"
   ]
  },
  {
   "cell_type": "markdown",
   "metadata": {},
   "source": [
    "   $$\\\\ \\frac{\\partial h(x)}{\\partial \\theta}=0$$\n"
   ]
  },
  {
   "cell_type": "markdown",
   "metadata": {},
   "source": [
    "   $$\\\\ \\frac{\\partial h(x)}{\\partial \\theta}= 2 \\sum_{n=1}^{N}(Yn-\\theta Xn)(-Xn)$$\n"
   ]
  },
  {
   "cell_type": "markdown",
   "metadata": {},
   "source": [
    "\n",
    "   $$ \\\\ \\frac{2 \\sum_{n=1}^{N}(Yn-\\theta Xn)(-Xn)}{2} = \\frac{0}{2}$$"
   ]
  },
  {
   "cell_type": "markdown",
   "metadata": {},
   "source": [
    "$$\\sum_{n=1}^{N}(Yn-\\theta Xn)(-Xn) = 0$$"
   ]
  },
  {
   "cell_type": "markdown",
   "metadata": {},
   "source": [
    "$$\\sum_{n=1}^{N}(-YnXn +\\theta Xn^2)= 0$$"
   ]
  },
  {
   "cell_type": "markdown",
   "metadata": {},
   "source": [
    "$$-\\sum_{n=1}^{N}(YnXn) + \\sum_{n=1}^{N}\\theta Xn^2 = 0$$"
   ]
  },
  {
   "cell_type": "markdown",
   "metadata": {},
   "source": [
    "$$ \\sum_{n=1}^{N}\\theta Xn^2 = \\sum_{n=1}^{N}(YnXn) $$"
   ]
  },
  {
   "cell_type": "markdown",
   "metadata": {},
   "source": [
    "$$ \\frac{\\sum_{n=1}^{N}\\theta Xn^2}{N} = \\frac{\\sum_{n=1}^{N}(YnXn)}{N}$$"
   ]
  },
  {
   "cell_type": "markdown",
   "metadata": {},
   "source": [
    "$$ \\theta\\bar{X}^2 = \\bar{Y}\\bar{X}\\\\ então \\\\\n",
    "    \\theta = \\frac{\\bar{Y}\\bar{X}}{\\bar X^2}\n",
    "$$"
   ]
  },
  {
   "cell_type": "markdown",
   "metadata": {},
   "source": [
    "<h4><b>$$\\mathbf{Caso\\ D > 1}\\ (e\\ nesse\\ caso\\ sem\\ a\\ coluna\\ de\\ 1's)$$</b></h4>"
   ]
  },
  {
   "cell_type": "markdown",
   "metadata": {},
   "source": [
    "$$h(\\overrightarrow{X}) = \\theta_1 X_1 +\\theta_2 X_2 +\\theta_3 X_3 + ... + \\theta_D X_D \\\\\n",
    "    = \\begin{bmatrix}X_1,X_2,X_3,\\cdots,X_D\\end{bmatrix} \\cdot \\begin{bmatrix}\\theta_1\\\\\\theta_2\\\\\\theta_3\\\\\\vdots\\\\\\theta_D\\end{bmatrix}$$"
   ]
  },
  {
   "cell_type": "markdown",
   "metadata": {},
   "source": [
    "$$= \\overrightarrow{X}^T\\cdot\\overrightarrow{\\theta}$$"
   ]
  },
  {
   "cell_type": "markdown",
   "metadata": {},
   "source": [
    "$$\\hat{\\overrightarrow{\\theta}_{LS}} = Argmin{\\sum_{n=1}^{N}(Yn-Xn^T\\theta )}$$"
   ]
  },
  {
   "cell_type": "markdown",
   "metadata": {},
   "source": [
    "$$\\overrightarrow{\\nabla}\\mathcal{L} =\n",
    "\\begin{bmatrix}\\frac{\\partial\\mathcal{L}}{\\partial\\theta_1}\n",
    "\\\\\\frac{\\partial\\mathcal{L}}{\\partial\\theta_2}\n",
    "\\\\\\vdots\n",
    "\\\\\\frac{\\partial\\mathcal{L}}{\\partial\\theta_D}\n",
    "\\end{bmatrix} = \\overrightarrow{0} \\Longrightarrow \\ \\boxed{\\hat{\\overrightarrow{\\theta}_{LS}} = (X^T X)^{-1} X^T Y} $$"
   ]
  },
  {
   "cell_type": "markdown",
   "metadata": {},
   "source": [
    "<h2>Questão 2</h2>"
   ]
  },
  {
   "cell_type": "markdown",
   "metadata": {},
   "source": [
    "Pegando os dados e fazendo as importações das bibliotecas usadas nas questões"
   ]
  },
  {
   "cell_type": "code",
   "execution_count": 1,
   "metadata": {
    "scrolled": true
   },
   "outputs": [],
   "source": [
    "import pandas as pd\n",
    "from pandas import read_csv\n",
    "import matplotlib.pyplot as plt\n",
    "import numpy as np\n",
    "import torch\n",
    "\n",
    "\n",
    "data = np.genfromtxt(\"data_reg_linear1.csv\")"
   ]
  },
  {
   "cell_type": "markdown",
   "metadata": {},
   "source": [
    "Formatação dos dados e inserindo bias"
   ]
  },
  {
   "cell_type": "code",
   "execution_count": 2,
   "metadata": {},
   "outputs": [],
   "source": [
    "x = data[:,:-1]\n",
    "n = x[:].shape\n",
    "\n",
    "ones = np.ones(n)\n",
    "x_andBias = np.concatenate((ones, x), axis=1)\n"
   ]
  },
  {
   "cell_type": "markdown",
   "metadata": {},
   "source": [
    "<h4><b>$$\\mathbf{Modelo\\ com\\ o\\ \\theta_0}$$</b></h4>"
   ]
  },
  {
   "cell_type": "code",
   "execution_count": 3,
   "metadata": {},
   "outputs": [],
   "source": [
    "y = data[:,-1]\n",
    "theta_ls = np.linalg.inv(x_andBias.T @ x_andBias)@ x_andBias.T @ y #Train\n",
    "y_test = x_andBias @ theta_ls #test\n",
    "error = np.mean((y-y_test)**2)"
   ]
  },
  {
   "cell_type": "markdown",
   "metadata": {},
   "source": [
    "<h4>$$\\mathbf{Modelo \\ sem \\ o\\ \\theta_0}$$ </h4>"
   ]
  },
  {
   "cell_type": "code",
   "execution_count": 4,
   "metadata": {},
   "outputs": [
    {
     "data": {
      "text/plain": [
       "3.722584417003046"
      ]
     },
     "execution_count": 4,
     "metadata": {},
     "output_type": "execute_result"
    }
   ],
   "source": [
    "theta = np.linalg.inv(x.T @ x) @ x.T @ y\n",
    "y_test2 = x * theta\n",
    "erro2 = np.mean((y-y_test2)**2)\n",
    "erro2"
   ]
  },
  {
   "cell_type": "code",
   "execution_count": 5,
   "metadata": {},
   "outputs": [
    {
     "data": {
      "image/png": "[encoded data removed]",
      "text/plain": [
       "<Figure size 432x288 with 1 Axes>"
      ]
     },
     "metadata": {
      "needs_background": "light"
     },
     "output_type": "display_data"
    },
    {
     "data": {
      "image/png": "[encoded data removed]",
      "text/plain": [
       "<Figure size 432x288 with 1 Axes>"
      ]
     },
     "metadata": {
      "needs_background": "light"
     },
     "output_type": "display_data"
    }
   ],
   "source": [
    "plt.scatter(x, y)\n",
    "plt.plot(x,y_test,color = 'r')\n",
    "plt.title(\"Regressão Linear para h1(x)\")\n",
    "plt.grid(True)\n",
    "plt.xlabel(\"Ŷ\")\n",
    "plt.ylabel(\"Y\")\n",
    "plt.show()\n",
    "\n",
    "\n",
    "plt.scatter(x, y)\n",
    "plt.grid(True)\n",
    "plt.plot(x,y_test2,color = 'r')\n",
    "plt.scatter(0, 0,color ='r')#Origem\n",
    "plt.title(\"Regressão Linear para h2(x)\")\n",
    "plt.xlabel(\"Ŷ\")\n",
    "plt.ylabel(\"Y\")\n",
    "plt.show()\n"
   ]
  },
  {
   "cell_type": "markdown",
   "metadata": {},
   "source": [
    "<h2>Questao 3</h2>"
   ]
  },
  {
   "cell_type": "markdown",
   "metadata": {},
   "source": [
    "<p>De forma resumida, explique a estrutura básica do dataset: qual o problema e quais as\n",
    "variáveis envolvidas?</p>"
   ]
  },
  {
   "cell_type": "markdown",
   "metadata": {},
   "source": [
    "<p>The Boston housing dataset, é um conjunto de dados que contem informações coletadas pelo Serviço de Censo dos Estados Unidos, possui o tamanho de 506 casos.<br> \n",
    "    As duas principais tarefas para esse dataset é a previsão do nivel de óxido nitroso e o valor mediano de uma casa.\n",
    "    Havendo 14 atributos para cada caso, sao eles:\n",
    "    <ol>\n",
    "        <li>CRIM - a Taxa de Criminalidade per capita</li>\n",
    "        <li>ZN - Proporção de terrenos residenciais zoneados para lotes com mais 25 pés quadrados</li>\n",
    "        <li>INDUS - Proporção de acres nao varejistas por cidade</li>\n",
    "        <li>Chas</li>\n",
    "        <li>NOX - Concentração de óxidos nítricos</li>\n",
    "        <li>RM - Número médio de cômodos por habitação</li>\n",
    "        <li>AGE - Proporção de casas ocupadas antes de 1940</li>\n",
    "        <li>DIS - Distancias poderadas</li>\n",
    "        <li>RAD - Índicie de acessibilidade a rodovias radiais</li>\n",
    "        <li>TAX - Taxa de imposto sobre propriedade</li>\n",
    "        <li>PTRATIO - Proporção professor-aluno por cidade</li>\n",
    "        <li>B - proporção de negros por cidade</li>\n",
    "        <li>LSTAT - porcentagem da população de uma classe menos favorecida</li>\n",
    "        <li>MEDV - Valor médio de casas ocupadas pelo proprietário em US$ 1.000</li>\n",
    "    </ol>\n",
    "    todos estes valores estão em ordem no dataset\n",
    "</p>\n"
   ]
  },
  {
   "cell_type": "code",
   "execution_count": 59,
   "metadata": {
    "scrolled": false
   },
   "outputs": [],
   "source": [
    "from sklearn.datasets import load_boston\n",
    "boston = load_boston()\n",
    "values_X = pd.DataFrame(load_boston().data, columns = boston.feature_names).values # importando as 13 variáveis\n",
    "values_Y = pd.DataFrame(boston.target).values #importando valores medios das casas ocupadas\n",
    "\n",
    "#Calculando a porcentagem do dataset que virá ser utilizado\n",
    "aux = values_X[:,1].shape\n",
    "N_total = aux[0]\n",
    "N = int(.8*N_total)\n",
    "\n",
    "#Pegando N linhas e atriuindo a uma varivel para treinamento\n",
    "x = values_X[:N,:]\n",
    "y_train = torch.from_numpy(values_Y[:N,:])\n",
    "bias = np.ones(y_train.shape)\n",
    "x_train= torch.from_numpy(np.concatenate((bias,x), axis=1))\n",
    "\n",
    "#Pegando o linhas a partir de N para variaveis de test\n",
    "test_y = torch.from_numpy(values_Y[N:,:])\n",
    "test_y.shape\n",
    "biasTest = np.ones(test_y.shape)\n",
    "values_testX = values_X[N:,:]\n",
    "test_X = torch.from_numpy(np.concatenate((biasTest,values_testX), axis=1))"
   ]
  },
  {
   "cell_type": "code",
   "execution_count": 60,
   "metadata": {},
   "outputs": [
    {
     "name": "stdout",
     "output_type": "stream",
     "text": [
      "tensor(32.7999, dtype=torch.float64)\n"
     ]
    }
   ],
   "source": [
    "#Treinamento da regressão\n",
    "theta = torch.inverse(x_train.T @ x_train) @ x_train.T @ y_train\n",
    "test = test_X @ theta #Teste\n",
    "error = torch.mean((test_y - test )**2)#Calculo do erro quadratico medio\n",
    "print(error)"
   ]
  },
  {
   "cell_type": "code",
   "execution_count": null,
   "metadata": {},
   "outputs": [],
   "source": []
  },
  {
   "cell_type": "code",
   "execution_count": null,
   "metadata": {},
   "outputs": [],
   "source": []
  }
 ],
 "metadata": {
  "kernelspec": {
   "display_name": "Python 3",
   "language": "python",
   "name": "python3"
  },
  "language_info": {
   "codemirror_mode": {
    "name": "ipython",
    "version": 3
   },
   "file_extension": ".py",
   "mimetype": "text/x-python",
   "name": "python",
   "nbconvert_exporter": "python",
   "pygments_lexer": "ipython3",
   "version": "3.8.3"
  }
 },
 "nbformat": 4,
 "nbformat_minor": 4
}
