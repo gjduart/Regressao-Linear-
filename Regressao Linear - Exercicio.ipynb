{
 "cells": [
  {
   "cell_type": "markdown",
   "metadata": {},
   "source": [
    "<h2>Questao 1</h2>"
   ]
  },
  {
   "cell_type": "markdown",
   "metadata": {},
   "source": [
    "1 . Derive a solucao de minimos quadrados para um modelo de regressao linear simples sem intercept: $$ h(x) = \\theta x$$"
   ]
  },
  {
   "cell_type": "markdown",
   "metadata": {},
   "source": [
    "$$h(x) = \\theta x \\\\\n",
    "    \\theta = argmin(\\theta)\\\\\n",
    "   $$\n",
    "   "
   ]
  },
  {
   "cell_type": "markdown",
   "metadata": {},
   "source": [
    "$$\\\\\n",
    "    min\\sum_{n=1}^{N} (Yn - \\theta Xn)^2\\\\\n",
    "     \\\\\n",
    "$$"
   ]
  },
  {
   "cell_type": "markdown",
   "metadata": {},
   "source": [
    "   $$\\\\ \\frac{\\partial h(x)}{\\partial \\theta}=0$$\n"
   ]
  },
  {
   "cell_type": "markdown",
   "metadata": {},
   "source": [
    "   $$\\\\ \\frac{\\partial h(x)}{\\partial \\theta}= 2 \\sum_{n=1}^{N}(Yn-\\theta Xn)(-Xn)$$\n"
   ]
  },
  {
   "cell_type": "markdown",
   "metadata": {},
   "source": [
    "\n",
    "   $$ \\\\ \\frac{2 \\sum_{n=1}^{N}(Yn-\\theta Xn)(-Xn)}{2} = \\frac{0}{2}$$"
   ]
  },
  {
   "cell_type": "markdown",
   "metadata": {},
   "source": [
    "$$\\sum_{n=1}^{N}(Yn-\\theta Xn)(-Xn) = 0$$"
   ]
  },
  {
   "cell_type": "markdown",
   "metadata": {},
   "source": [
    "$$\\sum_{n=1}^{N}(-YnXn +\\theta Xn^2)= 0$$"
   ]
  },
  {
   "cell_type": "markdown",
   "metadata": {},
   "source": [
    "$$-\\sum_{n=1}^{N}(YnXn) + \\sum_{n=1}^{N}\\theta Xn^2 = 0$$"
   ]
  },
  {
   "cell_type": "markdown",
   "metadata": {},
   "source": [
    "$$ \\sum_{n=1}^{N}\\theta Xn^2 = \\sum_{n=1}^{N}(YnXn) $$"
   ]
  },
  {
   "cell_type": "markdown",
   "metadata": {},
   "source": [
    "$$ \\frac{\\sum_{n=1}^{N}\\theta Xn^2}{N} = \\frac{\\sum_{n=1}^{N}(YnXn)}{N}$$"
   ]
  },
  {
   "cell_type": "markdown",
   "metadata": {},
   "source": [
    "$$ \\theta\\bar{X}^2 = \\bar{Y}\\bar{X}\\\\ então \\\\\n",
    "    \\theta = \\frac{\\bar{Y}\\bar{X}}{\\bar X^2}\n",
    "$$"
   ]
  },
  {
   "cell_type": "markdown",
   "metadata": {},
   "source": [
    "<h4><b>$$\\mathbf{Caso\\ D > 1}\\ (e\\ nesse\\ caso\\ sem\\ a\\ coluna\\ de\\ 1's)$$</b></h4>"
   ]
  },
  {
   "cell_type": "markdown",
   "metadata": {},
   "source": [
    "$$h(\\overrightarrow{X}) = \\theta_1 X_1 +\\theta_2 X_2 +\\theta_3 X_3 + ... + \\theta_D X_D \\\\\n",
    "    = \\begin{bmatrix}X_1,X_2,X_3,\\cdots,X_D\\end{bmatrix} \\cdot \\begin{bmatrix}\\theta_1\\\\\\theta_2\\\\\\theta_3\\\\\\vdots\\\\\\theta_D\\end{bmatrix}\n",
    "$$"
   ]
  },
  {
   "cell_type": "markdown",
   "metadata": {},
   "source": [
    "$$= \\overrightarrow{X}^T\\cdot\\overrightarrow{\\theta}$$"
   ]
  },
  {
   "cell_type": "markdown",
   "metadata": {},
   "source": [
    "$$\\hat{\\overrightarrow{\\theta}_{LS}} = Argmin{\\sum_{n=1}^{N}(Yn-Xn^T\\theta )}$$"
   ]
  },
  {
   "cell_type": "markdown",
   "metadata": {},
   "source": [
    "$$\\overrightarrow{\\nabla}\\mathcal{L} =\n",
    "\\begin{bmatrix}\\frac{\\partial\\mathcal{L}}{\\partial\\theta_1}\n",
    "\\\\\\frac{\\partial\\mathcal{L}}{\\partial\\theta_2}\n",
    "\\\\\\vdots\n",
    "\\\\\\frac{\\partial\\mathcal{L}}{\\partial\\theta_D}\n",
    "\\end{bmatrix} = \\overrightarrow{0} \\Longrightarrow \\ \\boxed{\\hat{\\overrightarrow{\\theta}_{LS}} = (X^T X)^{-1} X^T Y} $$"
   ]
  },
  {
   "cell_type": "markdown",
   "metadata": {},
   "source": [
    "<h2>Questão 2</h2>"
   ]
  },
  {
   "cell_type": "code",
   "execution_count": 47,
   "metadata": {
    "scrolled": true
   },
   "outputs": [
    {
     "data": {
      "text/plain": [
       "array([[ 7.30573058e-01,  2.86064100e+00],\n",
       "       [-1.30129457e-02,  5.37946880e-01],\n",
       "       [ 5.90290904e-01,  2.38156629e+00],\n",
       "       [ 6.27897978e-02,  9.25019622e-01],\n",
       "       [ 7.00009346e-01,  2.47626805e+00],\n",
       "       [-7.75643289e-02,  3.25763017e-01],\n",
       "       [-2.59629279e-01, -1.45846933e-01],\n",
       "       [ 8.81043911e-01,  3.34444237e+00],\n",
       "       [ 7.44084716e-01,  2.90335131e+00],\n",
       "       [ 6.17884994e-01,  2.20204020e+00],\n",
       "       [-4.14402485e-02,  1.31799415e-01],\n",
       "       [-3.90228719e-01, -7.23208547e-01],\n",
       "       [ 5.09231925e-01,  1.75033271e+00],\n",
       "       [ 4.11199450e-01,  1.90085793e+00],\n",
       "       [-1.96901977e-01,  1.44542724e-01],\n",
       "       [-2.70248145e-01, -3.23220134e-01],\n",
       "       [-1.98296100e-01,  1.35667354e-01],\n",
       "       [ 4.55479383e-01,  1.92043686e+00],\n",
       "       [ 3.19734216e-01,  1.42258716e+00],\n",
       "       [ 5.26294351e-01,  2.04628444e+00],\n",
       "       [ 5.52491903e-01,  2.12816715e+00],\n",
       "       [-4.68174964e-01, -1.08393371e+00],\n",
       "       [ 7.52682686e-01,  3.05182838e+00],\n",
       "       [ 3.27988148e-01,  1.66385841e+00],\n",
       "       [-1.78001970e-01, -2.29978517e-01],\n",
       "       [ 3.50894809e-01,  1.72096741e+00],\n",
       "       [ 2.90830255e-01,  1.32278049e+00],\n",
       "       [ 1.00588560e-01,  6.96141064e-01],\n",
       "       [ 7.26198912e-01,  2.99300051e+00],\n",
       "       [-2.19675452e-01,  2.99327075e-03],\n",
       "       [-2.77963609e-01, -6.61718845e-01],\n",
       "       [ 1.06022835e-01,  1.00107968e+00],\n",
       "       [ 4.69035149e-01,  1.88884616e+00],\n",
       "       [ 6.88807487e-01,  2.73503017e+00],\n",
       "       [ 2.05507278e-02,  6.34798288e-01],\n",
       "       [-1.45401686e-01,  6.18372485e-02],\n",
       "       [ 5.05516291e-01,  1.92124927e+00],\n",
       "       [-9.27439332e-02,  1.93399131e-01],\n",
       "       [-4.70350683e-02, -6.61660135e-02],\n",
       "       [ 5.78266144e-01,  2.41293621e+00],\n",
       "       [ 8.96037817e-02,  7.60373414e-01],\n",
       "       [ 6.68253303e-01,  2.64763784e+00],\n",
       "       [ 3.43087792e-01,  1.76886284e+00],\n",
       "       [-7.46394694e-02,  3.79111826e-01],\n",
       "       [ 3.74435186e-02,  1.21329522e+00],\n",
       "       [-2.37239718e-01, -1.90729216e-01],\n",
       "       [-7.62952864e-02,  1.46476388e-01],\n",
       "       [ 5.24970055e-01,  2.49456882e+00],\n",
       "       [-2.18681604e-01,  2.29414672e-01],\n",
       "       [ 9.39401150e-01,  3.20965481e+00],\n",
       "       [ 4.78978157e-02,  8.07815433e-01],\n",
       "       [-4.60069865e-01, -1.12007725e+00],\n",
       "       [-5.35994172e-02,  6.88488781e-01],\n",
       "       [-5.89051843e-03,  2.95360297e-01],\n",
       "       [ 5.88147640e-02,  7.92784095e-01],\n",
       "       [-1.67510420e-01,  2.19525211e-02],\n",
       "       [ 9.85256553e-01,  3.70122981e+00],\n",
       "       [-1.63897216e-01,  8.04815255e-03],\n",
       "       [ 6.08219147e-01,  2.00628090e+00],\n",
       "       [ 2.24786699e-01,  1.03540063e+00],\n",
       "       [ 7.12194681e-01,  2.65060449e+00],\n",
       "       [-4.25830483e-02,  5.73508382e-01],\n",
       "       [ 7.60297894e-01,  2.64394045e+00],\n",
       "       [ 5.39640188e-02,  6.39405012e-01],\n",
       "       [ 8.01886797e-01,  3.17353344e+00],\n",
       "       [ 1.67027116e-02,  7.63376474e-01],\n",
       "       [-2.41237193e-01, -5.78407049e-02],\n",
       "       [ 8.02632570e-02,  7.99799263e-01],\n",
       "       [-9.84109938e-02, -1.66881740e-01],\n",
       "       [ 5.72642088e-02,  8.97361577e-01],\n",
       "       [-2.32292116e-02,  6.61264896e-01],\n",
       "       [-1.45447552e-01, -1.74307898e-01],\n",
       "       [ 8.68665695e-01,  3.39405084e+00],\n",
       "       [ 2.84971237e-01,  1.53621686e+00],\n",
       "       [ 9.38042879e-01,  3.41742301e+00],\n",
       "       [-1.03631109e-01, -1.61190480e-02],\n",
       "       [ 6.85933828e-01,  2.52151561e+00],\n",
       "       [ 1.58623934e-01,  6.35802627e-01],\n",
       "       [ 8.52175474e-01,  3.41866803e+00],\n",
       "       [-7.72792995e-02,  1.38694733e-01],\n",
       "       [-2.56410539e-01, -1.35266557e-01],\n",
       "       [ 9.20583010e-01,  3.41285419e+00],\n",
       "       [ 1.39720678e-01,  1.05062914e+00],\n",
       "       [ 4.03718591e-01,  1.85811615e+00],\n",
       "       [ 9.27272320e-01,  3.30169773e+00],\n",
       "       [ 5.14645576e-02,  6.99441671e-01],\n",
       "       [ 3.81668746e-01,  2.20137167e+00],\n",
       "       [ 7.40638733e-01,  2.85149455e+00],\n",
       "       [ 5.91060877e-01,  2.41384530e+00],\n",
       "       [ 3.14756632e-01,  1.40194476e+00],\n",
       "       [-1.66311026e-01,  2.83937722e-01],\n",
       "       [ 1.48993254e-01,  9.56080258e-01],\n",
       "       [ 9.96530056e-01,  3.54364753e+00],\n",
       "       [ 7.88115025e-01,  2.92475486e+00],\n",
       "       [ 2.43059158e-01,  1.38880777e+00],\n",
       "       [ 1.49530053e-01,  9.57239807e-01],\n",
       "       [ 6.41893387e-01,  2.38261127e+00],\n",
       "       [ 3.50015402e-01,  1.30146694e+00],\n",
       "       [ 7.56108165e-02,  8.41799617e-01],\n",
       "       [ 4.87778008e-01,  1.63770306e+00]])"
      ]
     },
     "execution_count": 47,
     "metadata": {},
     "output_type": "execute_result"
    }
   ],
   "source": [
    "import pandas as pd\n",
    "from pandas import read_csv\n",
    "import matplotlib.pyplot as plt\n",
    "import numpy as np\n",
    "import torch\n",
    "\n",
    "\n",
    "data = np.genfromtxt(\"data_reg_linear1.csv\")\n",
    "data"
   ]
  },
  {
   "cell_type": "code",
   "execution_count": 2,
   "metadata": {},
   "outputs": [],
   "source": [
    "x = data[:,:-1]\n",
    "n = x[:].shape\n",
    "ones = np.ones(n)\n",
    "x_andBias = np.concatenate((ones, x), axis=1)"
   ]
  },
  {
   "cell_type": "markdown",
   "metadata": {},
   "source": [
    "<h4><b>$$\\mathbf{Modelo\\ com\\ o\\ \\theta_0}$$</b></h4>"
   ]
  },
  {
   "cell_type": "code",
   "execution_count": 3,
   "metadata": {},
   "outputs": [],
   "source": [
    "y = data[:,-1]\n",
    "theta_ls = np.linalg.inv(x_andBias.T @ x_andBias)@ x_andBias.T @ y\n",
    "y_test = x_andBias @ theta_ls\n",
    "error = np.mean((y-y_test)**2)"
   ]
  },
  {
   "cell_type": "markdown",
   "metadata": {},
   "source": [
    "<h4>$$\\mathbf{Modelo \\ sem \\ o\\ \\theta_0}$$ </h4>"
   ]
  },
  {
   "cell_type": "code",
   "execution_count": 4,
   "metadata": {},
   "outputs": [
    {
     "data": {
      "text/plain": [
       "3.722584417003046"
      ]
     },
     "execution_count": 4,
     "metadata": {},
     "output_type": "execute_result"
    }
   ],
   "source": [
    "theta = np.linalg.inv(x.T @ x) @ x.T @ y\n",
    "y_test2 = x * theta\n",
    "erro2 = np.mean((y-y_test2)**2)\n",
    "erro2"
   ]
  },
  {
   "cell_type": "code",
   "execution_count": 15,
   "metadata": {},
   "outputs": [
    {
     "data": {
      "image/png": "[encoded data removed]",
      "text/plain": [
       "<Figure size 432x288 with 1 Axes>"
      ]
     },
     "metadata": {
      "needs_background": "light"
     },
     "output_type": "display_data"
    },
    {
     "data": {
      "image/png": "[encoded data removed]",
      "text/plain": [
       "<Figure size 432x288 with 1 Axes>"
      ]
     },
     "metadata": {
      "needs_background": "light"
     },
     "output_type": "display_data"
    }
   ],
   "source": [
    "plt.scatter(x, y)\n",
    "plt.plot(x,y_test,color = 'r')\n",
    "plt.title(\"Regressão Linear para h1(x)\")\n",
    "plt.grid(True)\n",
    "plt.xlabel(\"Ŷ\")\n",
    "plt.ylabel(\"Y\")\n",
    "plt.show()\n",
    "\n",
    "\n",
    "plt.scatter(x, y)\n",
    "plt.grid(True)\n",
    "plt.plot(x,y_test2,color = 'r')\n",
    "plt.scatter(0, 0,color ='r')#Origem\n",
    "plt.title(\"Regressão Linear para h2(x)\")\n",
    "plt.xlabel(\"Ŷ\")\n",
    "plt.ylabel(\"Y\")\n",
    "plt.show()\n"
   ]
  },
  {
   "cell_type": "markdown",
   "metadata": {},
   "source": [
    "<h2>Questao 3</h2>"
   ]
  },
  {
   "cell_type": "markdown",
   "metadata": {},
   "source": [
    "<p>De forma resumida, explique a estrutura básica do dataset: qual o problema e quais as\n",
    "variáveis envolvidas?</p>"
   ]
  },
  {
   "cell_type": "markdown",
   "metadata": {},
   "source": [
    "<p>The Boston housing dataset, é um conjunto de dados que contem informações coletadas pelo Serviço de Censo dos Estados Unidos, possui o tamanho de 506 casos.<br> \n",
    "    As duas principais tarefas para esse dataset é a previsão do nivel de óxido nitroso e o valor mediano de uma casa.\n",
    "    Havendo 14 atributos para cada caso, sao eles:\n",
    "    <ol>\n",
    "        <li>CRIM - a Taxa de Criminalidade per capita</li>\n",
    "        <li>ZN - Proporção de terrenos residenciais zoneados para lotes com mais 25 pés quadrados</li>\n",
    "        <li>INDUS - Proporção de acres nao varejistas por cidade</li>\n",
    "        <li>Chas</li>\n",
    "        <li>NOX - Concentração de óxidos nítricos</li>\n",
    "        <li>RM - Número médio de cômodos por habitação</li>\n",
    "        <li>AGE - Proporção de casas ocupadas antes de 1940</li>\n",
    "        <li>DIS - Distancias poderadas</li>\n",
    "        <li>RAD - Índicie de acessibilidade a rodovias radiais</li>\n",
    "        <li>TAX - Taxa de imposto sobre propriedade</li>\n",
    "        <li>PTRATIO - Proporção professor-aluno por cidade</li>\n",
    "        <li>B - proporção de negros por cidade</li>\n",
    "        <li>LSTAT - porcentagem da população de uma classe menos favorecida</li>\n",
    "        <li>MEDV - Valor médio de casas ocupadas pelo proprietário em US$ 1.000</li>\n",
    "    </ol>\n",
    "</p>\n"
   ]
  },
  {
   "cell_type": "code",
   "execution_count": 84,
   "metadata": {
    "scrolled": false
   },
   "outputs": [
    {
     "name": "stdout",
     "output_type": "stream",
     "text": [
      "Requisição bem sucedida!\n"
     ]
    }
   ],
   "source": [
    "import requests\n",
    "from bs4 import BeautifulSoup\n",
    "\n",
    "req = requests.get('http://lib.stat.cmu.edu/datasets/boston')\n",
    "if req.status_code == 200:\n",
    "    print('Requisição bem sucedida!')\n",
    "    content = req.content\n",
    "soup = BeautifulSoup(content, 'html.parser')\n",
    "with open('boston_houses_dataset.txt', 'w', encoding='utf-8') as f_out:\n",
    "    f_out.write(soup.prettify())\n",
    "\n",
    "D = np.genfromtxt(\"HousingData.csv\",skip_header=1, delimiter=\",\")\n",
    "aux = D[:,1].shape\n",
    "N_total = aux[0]\n",
    "N = int(.8*N_total)\n"
   ]
  },
  {
   "cell_type": "code",
   "execution_count": 198,
   "metadata": {},
   "outputs": [
    {
     "data": {
      "text/plain": [
       "array([nan, nan, nan, nan, nan, nan, nan, nan, nan, nan, nan, nan, nan,\n",
       "       nan])"
      ]
     },
     "execution_count": 198,
     "metadata": {},
     "output_type": "execute_result"
    }
   ],
   "source": [
    "x_Dataset = D[:N,:-1]\n",
    "bias = np.ones(N).reshape(-1,1)\n",
    "X = np.concatenate((bias, x_Dataset), axis=1)\n",
    "\n",
    "y_Dataset = D[:N:,-1]\n",
    "\n",
    "\n",
    "theta = np.linalg.inv(X.T @ X + (10**-4)*np.identity(14))@ X.T @ y_Dataset\n",
    "theta"
   ]
  },
  {
   "cell_type": "code",
   "execution_count": null,
   "metadata": {},
   "outputs": [],
   "source": []
  },
  {
   "cell_type": "code",
   "execution_count": null,
   "metadata": {},
   "outputs": [],
   "source": []
  }
 ],
 "metadata": {
  "kernelspec": {
   "display_name": "Python 3",
   "language": "python",
   "name": "python3"
  },
  "language_info": {
   "codemirror_mode": {
    "name": "ipython",
    "version": 3
   },
   "file_extension": ".py",
   "mimetype": "text/x-python",
   "name": "python",
   "nbconvert_exporter": "python",
   "pygments_lexer": "ipython3",
   "version": "3.8.3"
  }
 },
 "nbformat": 4,
 "nbformat_minor": 4
}
